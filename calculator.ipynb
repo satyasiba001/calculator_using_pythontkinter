{
 "cells": [
  {
   "cell_type": "code",
   "execution_count": 1,
   "id": "c509868c",
   "metadata": {},
   "outputs": [
    {
     "name": "stdout",
     "output_type": "stream",
     "text": [
      "Collecting tk\n",
      "  Downloading tk-0.1.0-py3-none-any.whl (3.9 kB)\n",
      "Installing collected packages: tk\n",
      "Successfully installed tk-0.1.0\n",
      "Note: you may need to restart the kernel to use updated packages.\n"
     ]
    }
   ],
   "source": [
    "pip install tk"
   ]
  },
  {
   "cell_type": "code",
   "execution_count": 85,
   "id": "19024d68",
   "metadata": {},
   "outputs": [],
   "source": [
    "from tkinter import *\n",
    "\n",
    "win = Tk()\n",
    "win.title('CALCULATOR') \n",
    "win.geometry('500x340')\n",
    "win.resizable(False,False)\n",
    "win.configure(bg='yellow')\n",
    "#win.iconbitmap(\"data.ico\")\n",
    "\n",
    "# photo=PhotoImage(file='/home/sibu/PycharmProjects/Wineass-Ios7-Redesign-Calculator.ico')\n",
    "# win.iconphoto(False , photo)\n",
    "\n",
    "equation = \"\"\n",
    "\n",
    "def show(value):\n",
    "    global equation\n",
    "    equation+=value\n",
    "    result_window.config(text=equation)\n",
    "    \n",
    "def clear():\n",
    "    global equation\n",
    "    equation =\"\"\n",
    "    result_window.config(text=equation)\n",
    "    \n",
    "def calculate():\n",
    "    global equation\n",
    "    result = \"\"\n",
    "    if equation !=\"\":\n",
    "        try:\n",
    "            result=eval(equation)\n",
    "        except:\n",
    "            result='Error'\n",
    "            equation=\"\"\n",
    "    result_window.config(text=result)\n",
    "    \n",
    "#bold25 = Font(self.master, size=25, weight=BOLD)    \n",
    "result_window = Label(win, text='' ,width=100 ,height=6 ,font=(\"Courier\", 100,'bold') ,bg='#000000' ,fg='white')\n",
    "result_window.pack()\n",
    "\n",
    "Button(win , text='C' , width=5 , height=1 , font=('arial',30,'bold'),bd=2 , fg='#fff' , bg = '#033E3E',command= lambda:clear()).place(x=10,y=100)\n",
    "Button(win , text='/' , width=5 , height=1 , font=('arial',30,'bold'),bd=1 , fg='#fff' , bg = '#20B2AA',command=lambda:show(\"/\")).place(x=150,y=100)\n",
    "Button(win , text='%' , width=5 , height=1 , font=('arial',30,'bold'),bd=1 , fg='#fff' , bg = '#20B2AA',command=lambda:show(\"%\")).place(x=290,y=100)\n",
    "Button(win , text='*' , width=5 , height=1 , font=('arial',30,'bold'),bd=1 , fg='#fff' , bg = '#20B2AA',command=lambda:show(\"*\")).place(x=430,y=100)\n",
    "\n",
    "Button(win , text='1' , width=5 , height=1 , font=('arial',30,'bold'),bd=1 , fg='#fff' , bg = '#000000',command=lambda:show(\"1\")).place(x=10,y=150)\n",
    "Button(win , text='2' , width=5 , height=1 , font=('arial',30,'bold'),bd=1 , fg='#fff' , bg = '#000000',command=lambda:show(\"2\")).place(x=150,y=150)\n",
    "Button(win , text='3' , width=5 , height=1 , font=('arial',30,'bold'),bd=1 , fg='#fff' , bg = '#000000',command=lambda:show(\"3\")).place(x=290,y=150)\n",
    "Button(win , text='+' , width=5 , height=1 , font=('arial',30,'bold'),bd=1 , fg='#fff' , bg = '#20B2AA',command=lambda:show(\"+\")).place(x=430,y=150)\n",
    "\n",
    "Button(win , text='4' , width=5 , height=1 , font=('arial',30,'bold'),bd=1 , fg='#fff' , bg = '#000000',command=lambda:show(\"4\")).place(x=10,y=200)\n",
    "Button(win , text='5' , width=5 , height=1 , font=('arial',30,'bold'),bd=1 , fg='#fff' , bg = '#000000',command=lambda:show(\"5\")).place(x=150,y=200)\n",
    "Button(win , text='6' , width=5 , height=1 , font=('arial',30,'bold'),bd=1 , fg='#fff' , bg = '#000000',command=lambda:show(\"6\")).place(x=290,y=200)\n",
    "Button(win , text='-' , width=5 , height=1 , font=('arial',30,'bold'),bd=1 , fg='#fff' , bg = '#20B2AA',command=lambda:show(\"-\")).place(x=430,y=200)\n",
    "\n",
    "\n",
    "Button(win , text='7' , width=5 , height=1 , font=('arial',30,'bold'),bd=1 , fg='#fff' , bg = '#000000',command=lambda:show(\"7\")).place(x=10,y=250)\n",
    "Button(win , text='8' , width=5 , height=1 , font=('arial',30,'bold'),bd=1 , fg='#fff' , bg = '#000000',command=lambda:show(\"8\")).place(x=150,y=250)\n",
    "Button(win , text='9' , width=5 , height=1 , font=('arial',30,'bold'),bd=1 , fg='#fff' , bg = '#000000',command=lambda:show(\"9\")).place(x=290,y=250)\n",
    "Button(win , text='0' , width=5 , height=1 , font=('arial',30,'bold'),bd=1 , fg='#fff' , bg = '#000000',command=lambda:show(\"0\")).place(x=150,y=300)\n",
    "\n",
    "\n",
    "Button(win , text='=' , width=5 , height=5, font=('arial',30,'bold'),bd=1 , fg='#fff' , bg = '#fe9037',command=lambda:calculate()).place(x=430,y=250)\n",
    "Button(win , text='00' , width=5 , height=1 , font=('arial',30,'bold'),bd=1 , fg='#fff' , bg = '#000000',command=lambda:show(\"00\")).place(x=10,y=300)\n",
    "Button(win , text='.' , width=5 , height=1 , font=('arial',30,'bold'),bd=1 , fg='#fff' , bg = '#000000',command=lambda:show(\".\")).place(x=290,y=300)\n",
    "\n",
    "\n",
    "\n",
    "\n",
    "win.mainloop()"
   ]
  },
  {
   "cell_type": "code",
   "execution_count": null,
   "id": "83620045",
   "metadata": {},
   "outputs": [],
   "source": []
  },
  {
   "cell_type": "code",
   "execution_count": null,
   "id": "4e18c5a3",
   "metadata": {},
   "outputs": [],
   "source": []
  },
  {
   "cell_type": "code",
   "execution_count": null,
   "id": "90a5f390",
   "metadata": {},
   "outputs": [],
   "source": []
  },
  {
   "cell_type": "code",
   "execution_count": null,
   "id": "32cb09ff",
   "metadata": {},
   "outputs": [],
   "source": []
  }
 ],
 "metadata": {
  "kernelspec": {
   "display_name": "Python 3",
   "language": "python",
   "name": "python3"
  },
  "language_info": {
   "codemirror_mode": {
    "name": "ipython",
    "version": 3
   },
   "file_extension": ".py",
   "mimetype": "text/x-python",
   "name": "python",
   "nbconvert_exporter": "python",
   "pygments_lexer": "ipython3",
   "version": "3.9.7"
  }
 },
 "nbformat": 4,
 "nbformat_minor": 5
}
